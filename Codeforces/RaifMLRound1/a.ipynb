{
  "nbformat": 4,
  "nbformat_minor": 0,
  "metadata": {
    "colab": {
      "name": "a.ipynb",
      "provenance": [],
      "collapsed_sections": [],
      "authorship_tag": "ABX9TyOV6AdOaQzWzsrZw861myCK",
      "include_colab_link": true
    },
    "kernelspec": {
      "name": "python3",
      "display_name": "Python 3"
    },
    "language_info": {
      "name": "python"
    }
  },
  "cells": [
    {
      "cell_type": "markdown",
      "metadata": {
        "id": "view-in-github",
        "colab_type": "text"
      },
      "source": [
        "<a href=\"https://colab.research.google.com/github/sagsango/ML/blob/main/Codeforces/RaifMLRound1/a.ipynb\" target=\"_parent\"><img src=\"https://colab.research.google.com/assets/colab-badge.svg\" alt=\"Open In Colab\"/></a>"
      ]
    },
    {
      "cell_type": "code",
      "metadata": {
        "colab": {
          "base_uri": "https://localhost:8080/",
          "height": 244
        },
        "id": "JOhBo15wxEVP",
        "outputId": "3527fa0f-1812-4703-afbb-79f27f2cf9f4"
      },
      "source": [
        "import sys\n",
        "import csv\n",
        "#import urllib2\n",
        "import pandas as pd;\n",
        "#pd.set_option(\"display.max_rows\", None, \"display.max_columns\", None)\n",
        "#pd.set_option('display.expand_frame_repr', False)\n",
        "\n",
        "url = 'https://assets.codeforces.com/rounds/1522/3056cab52876d3327edafe4771c8589a96cb1a93/train.csv'\n",
        "#response = urllib2.urlopen(url)\n",
        "#cr = csv.reader(response)\n",
        "\n",
        "\n",
        "'''\n",
        "filePath = '/content/sample_data/train.csv';\n",
        "fileData = pd.read_csv(filePath)\n",
        "'''\n",
        "fileData = pd.read_csv( url )\n",
        "\n",
        "#print( fileData.shape )  #39991\n",
        "#print( fileData.head() )\n",
        "data = pd.DataFrame(fileData,columns=['Division','home_team','away_team','full_time_home_goals','full_time_away_goals','home_coef','draw_coef','away_coef','Diff'])\n",
        "data['Diff'] = data['full_time_home_goals'].sub(data['full_time_away_goals'], axis = 0)\n",
        "#print( data.head(100) )\n",
        "for i in range(len(data['Diff'])):\n",
        "  if data['Diff'][i] < 0:\n",
        "    data['Diff'][i] = -1\n",
        "  if data['Diff'][i] > 0:\n",
        "    data['Diff'][i] = +1\n",
        "#print( data.head(100) )\n",
        "\n",
        "'''\n",
        "i = 0\n",
        "for id in fileData['home_team']:\n",
        "  if( id == 152 ):\n",
        "    print( 'home' , fileData['home_coef'][i])\n",
        "  ++i\n",
        "\n",
        "\n",
        "i = 0\n",
        "for id in fileData['away_team']:\n",
        "  if( id == 152 ):\n",
        "    print( 'away' , fileData['away_coef'][i])\n",
        "  ++i\n",
        "\n",
        "i = 0\n",
        "for id in fileData['away_team']:\n",
        "  if( id == 152 ):\n",
        "    print( 'away' , fileData['away_coef'][i])\n",
        "  ++i\n",
        "'''\n",
        "\n",
        "data.drop(['full_time_home_goals','full_time_away_goals'],axis=1,inplace=True)\n",
        "\n",
        "from sklearn.model_selection import train_test_split\n",
        "X = data\n",
        "y = data.Diff\n",
        "X.drop(['Diff'], axis=1, inplace=True)\n",
        "\n",
        "#print( X.head() )\n",
        "#print( y.head() )\n",
        "\n",
        "X_train, X_valid, y_train, y_valid = train_test_split(X, y, train_size=0.8, test_size=0.2)\n",
        "#print( X_train.shape, X_valid.shape)\n",
        "\n",
        "from xgboost import XGBRegressor\n",
        "my_model = XGBRegressor(random_state=0)\n",
        "my_model.fit(X_train,y_train)\n",
        "\n",
        "\n",
        "predictions = pd.DataFrame(my_model.predict(X_valid),columns = ['Diff'])\n",
        "\n",
        "\n",
        "#print( predictions.shape , y_valid.shape) \n",
        "##print( predictions.head()) \n",
        "#print( X_valid.head() )\n",
        "\n",
        "\n",
        "\n",
        "tmp = [ [1,2,3,4,5,6] ]\n",
        "tmp = pd.DataFrame(tmp,columns=['Division','home_team','away_team','home_coef','draw_coef','away_coef'])\n",
        "\n",
        "\n",
        "tmpY = my_model.predict(tmp)\n",
        "\n",
        "#print( tmp.head())\n",
        "print( tmpY[0] )\n",
        "\n",
        "\n",
        "'''\n",
        "diff = 0\n",
        "same = 0\n",
        "for i in range(len(y_valid)):\n",
        "  if ( predictions[i] != y_valid[i] ):\n",
        "    ++diff\n",
        "  else:\n",
        "    ++same\n",
        "print(diff,same)\n",
        "'''\n",
        "\n",
        "      \n"
      ],
      "execution_count": 7,
      "outputs": [
        {
          "output_type": "stream",
          "text": [
            "/usr/local/lib/python3.7/dist-packages/ipykernel_launcher.py:28: SettingWithCopyWarning: \n",
            "A value is trying to be set on a copy of a slice from a DataFrame\n",
            "\n",
            "See the caveats in the documentation: https://pandas.pydata.org/pandas-docs/stable/user_guide/indexing.html#returning-a-view-versus-a-copy\n",
            "/usr/local/lib/python3.7/dist-packages/ipykernel_launcher.py:26: SettingWithCopyWarning: \n",
            "A value is trying to be set on a copy of a slice from a DataFrame\n",
            "\n",
            "See the caveats in the documentation: https://pandas.pydata.org/pandas-docs/stable/user_guide/indexing.html#returning-a-view-versus-a-copy\n"
          ],
          "name": "stderr"
        },
        {
          "output_type": "stream",
          "text": [
            "[17:21:27] WARNING: /workspace/src/objective/regression_obj.cu:152: reg:linear is now deprecated in favor of reg:squarederror.\n",
            "0.06987581\n"
          ],
          "name": "stdout"
        },
        {
          "output_type": "execute_result",
          "data": {
            "application/vnd.google.colaboratory.intrinsic+json": {
              "type": "string"
            },
            "text/plain": [
              "'\\ndiff = 0\\nsame = 0\\nfor i in range(len(y_valid)):\\n  if ( predictions[i] != y_valid[i] ):\\n    ++diff\\n  else:\\n    ++same\\nprint(diff,same)\\n'"
            ]
          },
          "metadata": {
            "tags": []
          },
          "execution_count": 7
        }
      ]
    },
    {
      "cell_type": "code",
      "metadata": {
        "id": "Wz3o2NNg2Tne",
        "outputId": "5909ada1-36c0-424f-cf0c-ecd29631f55e",
        "colab": {
          "base_uri": "https://localhost:8080/",
          "height": 300
        }
      },
      "source": [
        "import sys\n",
        "import pandas as pd;\n",
        "url = 'https://assets.codeforces.com/rounds/1522/3056cab52876d3327edafe4771c8589a96cb1a93/train.csv'\n",
        "\n",
        "\n",
        "'''\n",
        "fileData = pd.read_csv( url )\n",
        "data = pd.DataFrame(fileData,columns=['Division','home_team','away_team','full_time_home_goals','full_time_away_goals','home_coef','draw_coef','away_coef','Diff'])\n",
        "data['Diff'] = data['full_time_home_goals'].sub(data['full_time_away_goals'], axis = 0)\n",
        "\n",
        "for i in range(len(data['Diff'])):\n",
        "  if data['Diff'][i] < 0:\n",
        "    data['Diff'][i] = -1\n",
        "  if data['Diff'][i] > 0:\n",
        "    data['Diff'][i] = +1\n",
        "\n",
        "\n",
        "data.drop(['full_time_home_goals','full_time_away_goals'],axis=1,inplace=True)\n",
        "from sklearn.model_selection import train_test_split\n",
        "X = data\n",
        "y = data.Diff\n",
        "X.drop(['Diff'], axis=1, inplace=True)\n",
        "\n",
        "\n",
        "\n",
        "X_train, X_valid, y_train, y_valid = train_test_split(X, y, train_size=0.8, test_size=0.2)\n",
        "#print( X_train.shape, X_valid.shape)\n",
        "\n",
        "from xgboost import XGBRegressor\n",
        "my_model = XGBRegressor(random_state=0)\n",
        "\n",
        "X_train = X\n",
        "y_train = y\n",
        "\n",
        "my_model.fit(X_train,y_train)\n",
        "\n",
        "\n",
        "#predictions = pd.DataFrame(my_model.predict(X_valid),columns = ['Diff'])\n",
        "\n",
        "\n",
        "#print( predictions.shape , y_valid.shape)\n",
        "#print( predictions.head())\n",
        "#print( X_valid.head() )\n",
        "'''\n",
        "\n",
        "\n",
        "t = int(input())\n",
        "for i in range(t):\n",
        "    #a = list(input().split())\n",
        "    a = input()\n",
        "    #tmp = [[float(a[0]),float(a[2]),float(a[3]),float(a[5]),float(a[6]),float(a[7])]]\n",
        "    #tmp = pd.DataFrame(tmp,columns=['Division','home_team','away_team','home_coef','draw_coef','away_coef'])\n",
        "    '''\n",
        "    tmpY = pd.DataFrame(my_model.predict(tmp),columns = ['Diff'])\n",
        "    ans = \"\"\n",
        "\n",
        "    #print( tmpY)\n",
        "    #print( tmpY['Diff'][0] )\n",
        "   \n",
        "    #continue;\n",
        "    if( tmpY['Diff'][0].item() > 0  ):\n",
        "        ans = \"Home\"\n",
        "    elif tmpY['Diff'][0].item() < 0 :\n",
        "        ans = \"Away\"\n",
        "    else:\n",
        "        ans = \"Draw\"\n",
        "    '''\n",
        "    ans = \"Home\"\n",
        "    tmp = input()\n",
        "    print(ans)\n",
        "    sys.stdout.flush()\n",
        "    \n",
        "\n",
        "\n",
        "\n",
        "\n",
        "\n",
        "      \n"
      ],
      "execution_count": 3,
      "outputs": [
        {
          "output_type": "stream",
          "text": [
            "3\n",
            "0 -1 152 426 1 3.627689584601 3.577721408504 2.198599748243\n",
            "0 0 0 0 -1 -1 -1 -1 -1 -1 -1 -1 -1 -1 -1 -1\n",
            "Home\n"
          ],
          "name": "stdout"
        },
        {
          "output_type": "error",
          "ename": "NameError",
          "evalue": "ignored",
          "traceback": [
            "\u001b[0;31m---------------------------------------------------------------------------\u001b[0m",
            "\u001b[0;31mNameError\u001b[0m                                 Traceback (most recent call last)",
            "\u001b[0;32m<ipython-input-3-4bf1ee737314>\u001b[0m in \u001b[0;36m<module>\u001b[0;34m()\u001b[0m\n\u001b[1;32m     68\u001b[0m     \u001b[0mtmp\u001b[0m \u001b[0;34m=\u001b[0m \u001b[0minput\u001b[0m\u001b[0;34m(\u001b[0m\u001b[0;34m)\u001b[0m\u001b[0;34m\u001b[0m\u001b[0;34m\u001b[0m\u001b[0m\n\u001b[1;32m     69\u001b[0m     \u001b[0mprint\u001b[0m\u001b[0;34m(\u001b[0m\u001b[0mans\u001b[0m\u001b[0;34m)\u001b[0m\u001b[0;34m\u001b[0m\u001b[0;34m\u001b[0m\u001b[0m\n\u001b[0;32m---> 70\u001b[0;31m     \u001b[0mstdout\u001b[0m\u001b[0;34m.\u001b[0m\u001b[0mflush\u001b[0m\u001b[0;34m(\u001b[0m\u001b[0;34m)\u001b[0m\u001b[0;34m\u001b[0m\u001b[0;34m\u001b[0m\u001b[0m\n\u001b[0m\u001b[1;32m     71\u001b[0m \u001b[0;34m\u001b[0m\u001b[0m\n\u001b[1;32m     72\u001b[0m \u001b[0;34m\u001b[0m\u001b[0m\n",
            "\u001b[0;31mNameError\u001b[0m: name 'stdout' is not defined"
          ]
        }
      ]
    }
  ]
}