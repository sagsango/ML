{
  "nbformat": 4,
  "nbformat_minor": 0,
  "metadata": {
    "colab": {
      "name": "a.ipynb",
      "provenance": [],
      "collapsed_sections": [],
      "authorship_tag": "ABX9TyOlC8Xj32qJNEwzS6Nl68vL",
      "include_colab_link": true
    },
    "kernelspec": {
      "name": "python3",
      "display_name": "Python 3"
    },
    "language_info": {
      "name": "python"
    }
  },
  "cells": [
    {
      "cell_type": "markdown",
      "metadata": {
        "id": "view-in-github",
        "colab_type": "text"
      },
      "source": [
        "<a href=\"https://colab.research.google.com/github/sagsango/ML/blob/main/Codeforces/RaifMLRound1/a.ipynb\" target=\"_parent\"><img src=\"https://colab.research.google.com/assets/colab-badge.svg\" alt=\"Open In Colab\"/></a>"
      ]
    },
    {
      "cell_type": "code",
      "metadata": {
        "colab": {
          "base_uri": "https://localhost:8080/"
        },
        "id": "JOhBo15wxEVP",
        "outputId": "d760e6fb-634a-436b-f98d-be90d418f836"
      },
      "source": [
        "\n",
        "import pandas as pd;\n",
        "pd.set_option(\"display.max_rows\", None, \"display.max_columns\", None)\n",
        "pd.set_option('display.expand_frame_repr', False)\n",
        "filePath = '/content/train.csv';\n",
        "fileData = pd.read_csv(filePath)\n",
        "#print( fileData.head(100))\n",
        "'''\n",
        "i = 0\n",
        "for id in fileData['home_team']:\n",
        "  if( id == 152 ):\n",
        "    print( 'home' , fileData['home_coef'][i])\n",
        "  ++i\n",
        "\n",
        "\n",
        "i = 0\n",
        "for id in fileData['away_team']:\n",
        "  if( id == 152 ):\n",
        "    print( 'away' , fileData['away_coef'][i])\n",
        "  ++i\n",
        "\n",
        "\n",
        "i = 0\n",
        "for id in fileData['away_team']:\n",
        "  if( id == 152 ):\n",
        "    print( 'away' , fileData['away_coef'][i])\n",
        "  ++i\n",
        "'''\n",
        "print( fileData.shape )  #39991\n",
        "\n",
        "\n",
        "\n",
        "      \n"
      ],
      "execution_count": 13,
      "outputs": [
        {
          "output_type": "stream",
          "text": [
            "39992\n",
            "(39992, 25)\n"
          ],
          "name": "stdout"
        }
      ]
    }
  ]
}