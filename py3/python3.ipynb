{
  "nbformat": 4,
  "nbformat_minor": 0,
  "metadata": {
    "colab": {
      "name": "python3.ipynb",
      "provenance": [],
      "collapsed_sections": [],
      "authorship_tag": "ABX9TyPs0JMI5QSYMUFHf2ZvkVRc",
      "include_colab_link": true
    },
    "kernelspec": {
      "name": "python3",
      "display_name": "Python 3"
    }
  },
  "cells": [
    {
      "cell_type": "markdown",
      "metadata": {
        "id": "view-in-github",
        "colab_type": "text"
      },
      "source": [
        "<a href=\"https://colab.research.google.com/github/sagsango/ML/blob/main/python3.ipynb\" target=\"_parent\"><img src=\"https://colab.research.google.com/assets/colab-badge.svg\" alt=\"Open In Colab\"/></a>"
      ]
    },
    {
      "cell_type": "code",
      "metadata": {
        "colab": {
          "base_uri": "https://localhost:8080/"
        },
        "id": "spjD51w37IcQ",
        "outputId": "0602af6b-c23c-4a9b-a0b2-9e432ea85792"
      },
      "source": [
        "#input and spilt\n",
        "t=int(input())\n",
        "for test in range(t):\n",
        "    n,d=map(int,input().split())\n",
        "    A=list(map(int,input().split()))"
      ],
      "execution_count": 1,
      "outputs": [
        {
          "output_type": "stream",
          "text": [
            "1\n",
            "2 3\n",
            "1 2 3 \n"
          ],
          "name": "stdout"
        }
      ]
    },
    {
      "cell_type": "code",
      "metadata": {
        "colab": {
          "base_uri": "https://localhost:8080/"
        },
        "id": "ySWnfdBJ7xvp",
        "outputId": "4d0b8916-71d4-460f-9cfa-8c6487e7e446"
      },
      "source": [
        "#Mulidimentioan array ( list )\n",
        "n = 10\n",
        "m = 20\n",
        "k = 30\n",
        "arr1D = [0]*n\n",
        "arr2D = [[0]*m]*n\n",
        "arr3D = [[[0]*k]*m]*n\n",
        "print( len(arr1D) )\n",
        "print( len(arr2D), len(arr2D[0]) )\n",
        "print( len(arr3D), len(arr3D[0]), len(arr3D[0][0]));"
      ],
      "execution_count": 13,
      "outputs": [
        {
          "output_type": "stream",
          "text": [
            "10\n",
            "10 20\n",
            "10 20 30\n"
          ],
          "name": "stdout"
        }
      ]
    },
    {
      "cell_type": "code",
      "metadata": {
        "id": "-0VCIL1d9CEu"
      },
      "source": [
        "#int\n",
        "a = 0"
      ],
      "execution_count": 14,
      "outputs": []
    },
    {
      "cell_type": "code",
      "metadata": {
        "id": "6L4xDl549GNI"
      },
      "source": [
        "#float\n",
        "a = 0"
      ],
      "execution_count": 15,
      "outputs": []
    },
    {
      "cell_type": "code",
      "metadata": {
        "colab": {
          "base_uri": "https://localhost:8080/"
        },
        "id": "WhDWYo3P9Kx2",
        "outputId": "4eb09115-a483-4d13-9a49-ac83f2475a4f"
      },
      "source": [
        "#char : No char type in python\n",
        "c = 'A' # string\n",
        "print( ord('A') )\n",
        "print( chr(65) )"
      ],
      "execution_count": 16,
      "outputs": [
        {
          "output_type": "stream",
          "text": [
            "65\n",
            "A\n"
          ],
          "name": "stdout"
        }
      ]
    },
    {
      "cell_type": "code",
      "metadata": {
        "colab": {
          "base_uri": "https://localhost:8080/"
        },
        "id": "ekMyBiH99YeL",
        "outputId": "ef38297a-cf2d-4d5f-dee3-45538f3cfe5d"
      },
      "source": [
        "#string\n",
        "s = \"  Hello \"\n",
        "s = ' Hello    '\n",
        "\n",
        "s = s.strip() \n",
        "s = s.lstrip()\n",
        "s = s.rstrip()\n",
        "s = s.lower()\n",
        "s = s.upper()\n",
        "\n",
        "L,R = 1,3\n",
        "subs = s[L:R] #NOTE: substring(L,R-1)\n",
        "print( s , subs , sep = '\\n')\n",
        "\n",
        "s.isalnum()\n",
        "s.isalpha()\n",
        "s.islower()\n",
        "s.isnumeric()\t\n",
        "s.isspace()\n",
        "s.istitle()\n",
        "s.isupper()\n",
        "\n",
        "print( len(s) )\n",
        "s.split()\n",
        "s.split('a')\n",
        "s.replace('old','new')  #NOTE: on substring\n",
        "\n",
        "del s"
      ],
      "execution_count": 28,
      "outputs": [
        {
          "output_type": "stream",
          "text": [
            "HELLO\n",
            "EL\n",
            "5\n"
          ],
          "name": "stdout"
        }
      ]
    },
    {
      "cell_type": "code",
      "metadata": {
        "id": "l7vZx_ga_gfw"
      },
      "source": [
        "#operators\n",
        "'''\n",
        "+\tAddition\tx + y\t\n",
        "-\tSubtraction\tx - y\t\n",
        "*\tMultiplication\tx * y\t\n",
        "/\tDivision\tx / y\t\n",
        "%\tModulus\tx % y\t\n",
        "**\tExponentiation\tx ** y\t\n",
        "//\tFloor division\tx // y\n",
        "\n",
        "=\tx = 5\tx = 5\t\n",
        "+=\tx += 3\tx = x + 3\t\n",
        "-=\tx -= 3\tx = x - 3\t\n",
        "*=\tx *= 3\tx = x * 3\t\n",
        "/=\tx /= 3\tx = x / 3\t\n",
        "%=\tx %= 3\tx = x % 3\t\n",
        "//=\tx //= 3\tx = x // 3\t\n",
        "**=\tx **= 3\tx = x ** 3\t\n",
        "&=\tx &= 3\tx = x & 3\t\n",
        "|=\tx |= 3\tx = x | 3\t\n",
        "^=\tx ^= 3\tx = x ^ 3\t\n",
        ">>=\tx >>= 3\tx = x >> 3\t\n",
        "<<=\tx <<= 3\tx = x << 3\n",
        "\n",
        "==\tEqual\tx == y\t\n",
        "!=\tNot equal\tx != y\t\n",
        ">\tGreater than\tx > y\t\n",
        "<\tLess than\tx < y\t\n",
        ">=\tGreater than or equal to\tx >= y\t\n",
        "<=\tLess than or equal to\tx <= y\n",
        "\n",
        "and Returns True if both statements are true\t\t\t\t\tx < 5 and  x < 10\t\n",
        "or\tReturns True if one of the statements is true\t\t\t\tx < 5 or x < 4\t\n",
        "not\tReverse the result, returns False if the result is true\t\tnot(x < 5 and x < 10)\t\n",
        "\n",
        "& \tAND\tSets each bit to 1 if both bits are 1\n",
        "|\tOR\tSets each bit to 1 if one of two bits is 1\n",
        " ^\tXOR\tSets each bit to 1 if only one of two bits is 1\n",
        "~ \tNOT\tInverts all the bits\n",
        "<<\tZero fill left shift\tShift left by pushing zeros in from the right and let the leftmost bits fall off\n",
        ">>\tSigned right shift\tShift right by pushing copies of the leftmost bit in from the left, and let the rightmost bits fall off\n",
        "'''"
      ],
      "execution_count": null,
      "outputs": []
    },
    {
      "cell_type": "code",
      "metadata": {
        "id": "AWw70Z1p_n73"
      },
      "source": [
        "#if-else\n",
        "'''\n",
        "if a > b :\n",
        "\tprint( \" A > B \" )\n",
        "\n",
        "if a > b :\n",
        "\tprint( \" A > B \" )\n",
        "else :\n",
        "\tprint( \" A is not greater than B\" )\n",
        "\n",
        "if a > b :\n",
        "\tprint( \" A > B \" )\n",
        "elif a == b :\n",
        "\tprint( \" A = B \" )\n",
        "else :\n",
        "\tprint( \" A < B \" )\n",
        "'''"
      ],
      "execution_count": null,
      "outputs": []
    },
    {
      "cell_type": "code",
      "metadata": {
        "id": "_1_Rb6X-_qNE"
      },
      "source": [
        "#loops\n",
        "'''\n",
        "fruits = [\"apple\", \"banana\", \"cherry\"]\n",
        "for x in fruits:\n",
        "  print(x)\n",
        "for x in \"banana\":\n",
        "  print(x)\n",
        "for x in range(6):\n",
        "  print(x)\n",
        "for x in range(2, 6):\n",
        "  print(x)\n",
        "for x in range(2, 30, 3):\n",
        "  print(x)\n",
        "for x in [0, 1, 2]:\n",
        "  pass\n",
        "i = 0\n",
        "while (i < 3):    \n",
        "    i = i + 1\n",
        "    print(\"Namaste\")\n",
        "'''"
      ],
      "execution_count": null,
      "outputs": []
    },
    {
      "cell_type": "code",
      "metadata": {
        "colab": {
          "base_uri": "https://localhost:8080/"
        },
        "id": "UpL3EIXB_7FD",
        "outputId": "a686b9ae-861b-4f38-d716-95e1814ff13d"
      },
      "source": [
        "#list\t\t\t : can have diff types of data\n",
        "mylist = list(()) # Empty list\n",
        "thislist = [\"apple\", \"banana\", \"cherry\", 13.5, 10303]\n",
        "thatlist = list(input().strip().split())\n",
        "print(thislist)\n",
        "print(thislist[1])\n",
        "print(thislist[2:5])\n",
        "thislist[1] = \"blackcurrant\"\n",
        "print(len(thislist))\n",
        "thislist.append(\"orange\")\n",
        "thislist.insert(1, \"new fruit\")\n",
        "print(thislist)\n",
        "if 'banana' in thislist :\n",
        "  thislist.remove(\"banana\")\n",
        "thislist.pop()\n",
        "del thislist[0]\n",
        "thislist.clear()\n",
        "del thislist\n",
        "thislist = thatlist\n",
        "thislist.sort()\n",
        "thislist.reverse()\n",
        "\n",
        "tmplist = [ [\"hello\",123], [1223,1213,1112] ]\n",
        "yourlist = list( ) \n",
        "yourlist = list( range(10)  )\n",
        "for i in range(10):\n",
        "\tyourlist[i] = list( )\n",
        "yourlist[0].append(\"Hello\")\n",
        "yourlist[9].append(\"Namaste\")\n",
        "for i in range(10):\n",
        "    for j in range(len(yourlist[i])):\n",
        "        print( yourlist[i][j] )"
      ],
      "execution_count": 41,
      "outputs": [
        {
          "output_type": "stream",
          "text": [
            "1 2 3 4 \n",
            "['apple', 'banana', 'cherry', 13.5, 10303]\n",
            "banana\n",
            "['cherry', 13.5, 10303]\n",
            "5\n",
            "['apple', 'new fruit', 'blackcurrant', 'cherry', 13.5, 10303, 'orange']\n",
            "Hello\n",
            "Namaste\n"
          ],
          "name": "stdout"
        }
      ]
    },
    {
      "cell_type": "code",
      "metadata": {
        "colab": {
          "base_uri": "https://localhost:8080/"
        },
        "id": "zQAmzj3VAYNz",
        "outputId": "b70a57de-61cf-48c9-c64e-d200bb2c91b2"
      },
      "source": [
        "#set \t\t\t       : can have diff types of data\n",
        "#                : Not sorted\n",
        "myset = set()  # Empty set\n",
        "thisset = {\"apple\", \"banana\", \"cherry\"}\n",
        "thatset = set(input().strip().split())\n",
        "thisset.add(\"orange\")\n",
        "print(len(thisset))\n",
        "thisset.remove(\"banana\")  # If banana not present it will give error\n",
        "thisset.discard(\"banana\") # If banana not present it will NOT give error\n",
        "l = list(thisset)\n",
        "l.sort()\n",
        "print(l)\n",
        "thisset.clear()\n",
        "del thisset"
      ],
      "execution_count": 43,
      "outputs": [
        {
          "output_type": "stream",
          "text": [
            "1 2 3 4\n",
            "4\n",
            "['apple', 'cherry', 'orange']\n"
          ],
          "name": "stdout"
        }
      ]
    },
    {
      "cell_type": "code",
      "metadata": {
        "colab": {
          "base_uri": "https://localhost:8080/"
        },
        "id": "vORLKM-1Anj3",
        "outputId": "6162126d-36e5-4829-d1b8-f6c783428c5f"
      },
      "source": [
        "#dictionary\t\t : can have diff types of data\n",
        "thatdict = dict(()) # Empty dict\n",
        "thisdict = {\n",
        "  \"brand\": \"Ford\",\n",
        "  \"model\": \"Mustang\",\n",
        "  \"year\": 1964\n",
        "}\n",
        "x = thisdict[\"model\"]                 # if key is not present it will give error\n",
        "x = thisdict.get(\"model\")             # if key is not present it will NOT give error\n",
        "thisdict[\"year\"] = 2018\n",
        "thisdict[\"key\" ] = \"keyValue\"\n",
        "for x in thisdict:\n",
        "  print(x,thisdict[x])\n",
        "thatdict = thisdict\n",
        "del thisdict[\"key\"]\n",
        "thisdict.clear()\n",
        "del thisdict\n",
        "\n",
        "#2D\n",
        "myfamily = {\n",
        "  \"child1\" : {\n",
        "    \"name\" : \"Emil\",\n",
        "    \"year\" : 2004\n",
        "  },\n",
        "  \"child2\" : {\n",
        "    \"name\" : \"Tobias\",\n",
        "    \"year\" : 2007\n",
        "  },\n",
        "  \"child3\" : {\n",
        "    \"name\" : \"Linus\",\n",
        "    \"year\" : 2011\n",
        "  }\n",
        "}\n",
        "yourfamily = dict( )\n",
        "yourfamily[ \"child1\" ] = dict( () )\n",
        "yourfamily[ \"child1\" ][ \"name\" ] = \"Emil\"\n",
        "yourfamily[ \"child1\" ][ \"year\" ] = \"2004\"\n",
        "\n",
        "# Can be diff type \n",
        "yourfamily[\"child2\"] = list()\n",
        "yourfamily[\"child2\"].append(('name','Tobias'));\n",
        "\n",
        "print( yourfamily )\n",
        "\n",
        "print(  len( yourfamily )  )\n",
        "print(  len( yourfamily[ \"child1\" ] )  )\n",
        "print( yourfamily.get(\"child100000000\") == None )"
      ],
      "execution_count": 34,
      "outputs": [
        {
          "output_type": "stream",
          "text": [
            "brand Ford\n",
            "model Mustang\n",
            "year 2018\n",
            "key keyValue\n",
            "{'child1': {'name': 'Emil', 'year': '2004'}, 'child2': [('name', 'Tobias')]}\n",
            "2\n",
            "2\n",
            "True\n"
          ],
          "name": "stdout"
        }
      ]
    },
    {
      "cell_type": "code",
      "metadata": {
        "colab": {
          "base_uri": "https://localhost:8080/"
        },
        "id": "rvAyQDeBBuKb",
        "outputId": "cb027e9b-72e2-4bb9-fae8-8e8035f1cd6f"
      },
      "source": [
        "#function\n",
        "def my_function():\n",
        "  print(\"Hello from a function\")\n",
        "def my_function(x):\n",
        "  return 5 * x\n",
        "def tri_recursion(k):\n",
        "  if(k > 0):\n",
        "    result = k + tri_recursion(k - 1)\n",
        "  else:\n",
        "    result = 0\n",
        "  return result\n",
        "def myfunction():\n",
        "  pass\n",
        "def myFun(*argv):  \n",
        "    for arg in argv:  \n",
        "        print (arg) \n",
        "myFun('Hello', 'Welcome', 'to', 'GeeksforGeeks')\n",
        "def myFun(**kwargs):  \n",
        "    for key in kwargs:\n",
        "        print (key, kwargs[key])\n",
        "myFun(first ='Geeks', mid ='for', last='Geeks')    "
      ],
      "execution_count": 35,
      "outputs": [
        {
          "output_type": "stream",
          "text": [
            "Hello\n",
            "Welcome\n",
            "to\n",
            "GeeksforGeeks\n",
            "first Geeks\n",
            "mid for\n",
            "last Geeks\n"
          ],
          "name": "stdout"
        }
      ]
    },
    {
      "cell_type": "code",
      "metadata": {
        "colab": {
          "base_uri": "https://localhost:8080/"
        },
        "id": "mj9PFQloCCb0",
        "outputId": "f4ea8418-3bfd-4ca7-9148-dc53e5eae472"
      },
      "source": [
        "#OPPs\n",
        "#single Inharitanse\n",
        "class Person:\n",
        "  def __init__(self, name, age):\n",
        "    self.name = name\n",
        "    self.age = age\n",
        "  def myfunc(self):\n",
        "    print(\"Hello my name is \" + self.name)\n",
        "p1 = Person(\"John\", 36)\n",
        "p1.myfunc()\n",
        "class Student(Person):\n",
        "  def __init__(self, name, age, year):\n",
        "    #super().__init__(name, age)\n",
        "    Person.__init__(self,name, age)\n",
        "    self.graduationyear = year\n",
        "x = Student(\"Peter\",9,39)\n",
        "x.myfunc()\n",
        "#Multiple inheritance\n",
        "class Base1(object): \n",
        "    def __init__(self): \n",
        "        self.str1 = \"Geek1\"\n",
        "        print(\"Base1\") \n",
        "  \n",
        "class Base2(object): \n",
        "    def __init__(self): \n",
        "        self.str2 = \"Geek2\"        \n",
        "        print(\"Base2\") \n",
        "  \n",
        "class Derived(Base1, Base2): \n",
        "    def __init__(self): \n",
        "        Base1.__init__(self) \n",
        "        Base2.__init__(self) \n",
        "        print(\"Derived\") \n",
        "    def printStrs(self): \n",
        "        print(self.str1, self.str2)\n",
        "        #print(str1, str2)     #DO Not work\n",
        "ob = Derived() \n",
        "ob.printStrs() \n",
        "#private Member : Not aviable for child : __varName"
      ],
      "execution_count": 36,
      "outputs": [
        {
          "output_type": "stream",
          "text": [
            "Hello my name is John\n",
            "Hello my name is Peter\n",
            "Base1\n",
            "Base2\n",
            "Derived\n",
            "Geek1 Geek2\n"
          ],
          "name": "stdout"
        }
      ]
    },
    {
      "cell_type": "code",
      "metadata": {
        "id": "h5wwp6tqDYN0"
      },
      "source": [
        "#File Handling\n",
        "'''\n",
        "file = open(\"myfile.txt\",\"r\")\t\t \t           #r\t\t    \toffset=0\n",
        "file = open(\"myfile.txt\",\"r+\")\t\t        \t #r+w\t    \toffset=0\t\n",
        "file = open(\"myfile.txt\",\"w\")                #w         offset=0\n",
        "file = open(\"myfile.txt\",\"w+\")               #w+r       offset=0\n",
        "file = open(\"myfile.txt\",\"a\")                #w         offset=end of file\n",
        "file = open(\"myfile.txt\",\"a+\")               #r+w       offset=end of file\n",
        "file.write(\"This line will be written in the file\")\n",
        "for line in file:                            #Read file line by line\n",
        "\tprint(line)\n",
        "print( file.read()  )                        #read whole file \n",
        "print( file.read(10) )\t\t\t\t\t             #read first 10 char\n",
        "print( file.readline() )                     #read only 1 line\n",
        "print( file.readline(10) )                   #read only first 10 char of a line\n",
        "file.seek(0)                                 #set offset \n",
        "file.close()\n",
        "\n",
        "#Run bellow code : try with diff open mode and seek\n",
        "file = open(\"filedemo.txt\",\"a+\")\n",
        "file.write(\"Hello! How are you?\\n\")\n",
        "file.write(\"I am fine. What about you?\\n\")\n",
        "file.write(\"    This         is         last line    !!!\\n      \")\n",
        "file.seek(0)\n",
        "print(file.read())\n",
        "file.seek(0)\n",
        "for line in file:\n",
        "\tcurline = line.strip().split()\n",
        "\tfor word in curline:\n",
        "\t\tprint( word, end=\" \")\n",
        "\tprint(\"\")\n",
        "'''"
      ],
      "execution_count": null,
      "outputs": []
    },
    {
      "cell_type": "code",
      "metadata": {
        "id": "9U-ryFnLD9VZ"
      },
      "source": [
        "#Modules and Packages"
      ],
      "execution_count": null,
      "outputs": []
    },
    {
      "cell_type": "code",
      "metadata": {
        "id": "B2TR8MZ0D-Ap"
      },
      "source": [
        "#Regular Expression"
      ],
      "execution_count": null,
      "outputs": []
    },
    {
      "cell_type": "code",
      "metadata": {
        "id": "didlVIsUEAWm"
      },
      "source": [
        "#Error Handling\n",
        "a = 10\n",
        "b = 20\n",
        "c = a * b\n",
        "assert( c == 200 )"
      ],
      "execution_count": 44,
      "outputs": []
    },
    {
      "cell_type": "code",
      "metadata": {
        "id": "tDGBWOVyEHPg"
      },
      "source": [
        "#Exception handling"
      ],
      "execution_count": null,
      "outputs": []
    }
  ]
}
